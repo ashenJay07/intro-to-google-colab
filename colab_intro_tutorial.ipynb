{
  "nbformat": 4,
  "nbformat_minor": 0,
  "metadata": {
    "colab": {
      "provenance": [],
      "gpuType": "T4",
      "authorship_tag": "ABX9TyMSvPuhI5YTyU+ie3SEYnMd",
      "include_colab_link": true
    },
    "kernelspec": {
      "name": "python3",
      "display_name": "Python 3"
    },
    "language_info": {
      "name": "python"
    }
  },
  "cells": [
    {
      "cell_type": "markdown",
      "metadata": {
        "id": "view-in-github",
        "colab_type": "text"
      },
      "source": [
        "<a href=\"https://colab.research.google.com/github/ashenJay07/delete-colab/blob/main/colab_intro_tutorial.ipynb\" target=\"_parent\"><img src=\"https://colab.research.google.com/assets/colab-badge.svg\" alt=\"Open In Colab\"/></a>"
      ]
    },
    {
      "cell_type": "code",
      "source": [
        "print(\"Hello World\")"
      ],
      "metadata": {
        "colab": {
          "base_uri": "https://localhost:8080/"
        },
        "id": "D6GM55M7V6ih",
        "outputId": "7974307c-7a58-4de1-da56-933071d4ba78"
      },
      "execution_count": 2,
      "outputs": [
        {
          "output_type": "stream",
          "name": "stdout",
          "text": [
            "Hello World\n"
          ]
        }
      ]
    },
    {
      "cell_type": "markdown",
      "source": [
        "##### All the DS related libraries and tools installed on goolge servers. So we do not want to manually install them again and again. What we have to do is, just import them"
      ],
      "metadata": {
        "id": "ZIZrz5l9WLpu"
      }
    },
    {
      "cell_type": "code",
      "source": [
        "import tensorflow as tf\n",
        "import numpy as np\n",
        "import pandas as pd"
      ],
      "metadata": {
        "id": "nmyU-4xTYA4T"
      },
      "execution_count": 1,
      "outputs": []
    },
    {
      "cell_type": "code",
      "source": [
        "print(tf.__version__)\n",
        "print(pd.__version__)"
      ],
      "metadata": {
        "id": "5IIEMGsxYLKK",
        "colab": {
          "base_uri": "https://localhost:8080/"
        },
        "outputId": "5890abe8-3428-48ac-a9a9-38f36b68af8f"
      },
      "execution_count": 3,
      "outputs": [
        {
          "output_type": "stream",
          "name": "stdout",
          "text": [
            "2.13.0\n",
            "1.5.3\n"
          ]
        }
      ]
    },
    {
      "cell_type": "markdown",
      "source": [
        "<br>\n",
        "\n",
        "## Installing the Libraries and Tools that does not exist in the Google colab servers"
      ],
      "metadata": {
        "id": "n9h0RGVWZglr"
      }
    },
    {
      "cell_type": "code",
      "source": [
        "!pip install gym"
      ],
      "metadata": {
        "colab": {
          "base_uri": "https://localhost:8080/"
        },
        "id": "brMgxUpdarKA",
        "outputId": "3094bd10-68c1-4d8d-f04b-e911c13419f5"
      },
      "execution_count": 4,
      "outputs": [
        {
          "output_type": "stream",
          "name": "stdout",
          "text": [
            "Requirement already satisfied: gym in /usr/local/lib/python3.10/dist-packages (0.25.2)\n",
            "Requirement already satisfied: numpy>=1.18.0 in /usr/local/lib/python3.10/dist-packages (from gym) (1.23.5)\n",
            "Requirement already satisfied: cloudpickle>=1.2.0 in /usr/local/lib/python3.10/dist-packages (from gym) (2.2.1)\n",
            "Requirement already satisfied: gym-notices>=0.0.4 in /usr/local/lib/python3.10/dist-packages (from gym) (0.0.8)\n"
          ]
        }
      ]
    },
    {
      "cell_type": "markdown",
      "source": [
        "<br><br>\n",
        "\n",
        "## Mounting Drive"
      ],
      "metadata": {
        "id": "-tgvy2UkcIDJ"
      }
    },
    {
      "cell_type": "code",
      "source": [
        "from google.colab import drive\n",
        "drive.mount('/content/gdrive')"
      ],
      "metadata": {
        "colab": {
          "base_uri": "https://localhost:8080/"
        },
        "id": "l93HFzP3qrCR",
        "outputId": "97e69611-26c2-484f-c2d9-4d2683cafe3e"
      },
      "execution_count": 2,
      "outputs": [
        {
          "output_type": "stream",
          "name": "stdout",
          "text": [
            "Mounted at /content/gdrive\n"
          ]
        }
      ]
    },
    {
      "cell_type": "code",
      "source": [
        "!pwd"
      ],
      "metadata": {
        "colab": {
          "base_uri": "https://localhost:8080/"
        },
        "id": "EW4NAHO-qzwf",
        "outputId": "b4ced5de-ed2c-49ef-bbcd-980e31b38daf"
      },
      "execution_count": 3,
      "outputs": [
        {
          "output_type": "stream",
          "name": "stdout",
          "text": [
            "/content\n"
          ]
        }
      ]
    },
    {
      "cell_type": "markdown",
      "source": [
        "<br><br>\n",
        "\n",
        "## Change Working Directory"
      ],
      "metadata": {
        "id": "GKTnlLjHrFdi"
      }
    },
    {
      "cell_type": "code",
      "source": [
        "%cd /content/gdrive/MyDrive"
      ],
      "metadata": {
        "colab": {
          "base_uri": "https://localhost:8080/"
        },
        "id": "IDofMGdVr3XQ",
        "outputId": "9f93edaa-8767-4ae9-f6db-b7fa12de2d85"
      },
      "execution_count": 7,
      "outputs": [
        {
          "output_type": "stream",
          "name": "stdout",
          "text": [
            "/content/gdrive/MyDrive\n"
          ]
        }
      ]
    },
    {
      "cell_type": "code",
      "source": [
        "!pwd"
      ],
      "metadata": {
        "colab": {
          "base_uri": "https://localhost:8080/"
        },
        "id": "kgaPGssLr-cU",
        "outputId": "0fdc1a1a-112e-46c1-b612-d5a97fc3f1a0"
      },
      "execution_count": 8,
      "outputs": [
        {
          "output_type": "stream",
          "name": "stdout",
          "text": [
            "/content/gdrive/MyDrive\n"
          ]
        }
      ]
    },
    {
      "cell_type": "code",
      "source": [
        "!ls"
      ],
      "metadata": {
        "colab": {
          "base_uri": "https://localhost:8080/"
        },
        "id": "Ogme3MmNsLqs",
        "outputId": "86f3e86f-7027-436d-d508-ea8ab79bea18"
      },
      "execution_count": 9,
      "outputs": [
        {
          "output_type": "stream",
          "name": "stdout",
          "text": [
            "'$ Additional Readings'\t\t\t   LinkedIn.xlsx\n",
            "'@ Account details'\t\t\t  'MEGA drive recover key'\n",
            "'Adobe Settings'\t\t\t  'My CV'\n",
            " Auxpearl\t\t\t\t   myself\n",
            "'Browser bookmarks'\t\t\t  '@ Next Level | SE + more'\n",
            "'Browser Extension Downloader'\t\t  '@ Online courses & Resources'\n",
            "'Colab Notebooks'\t\t\t  'Project Interfaces'\n",
            "'Company Related Stuffs'\t\t  '@ Self Studying Technologies'\n",
            "'@ Courses & Certificates & Links'\t  'SLIIT - 4 Year'\n",
            "'@ English'\t\t\t\t  'SLT - Internship'\n",
            "'@ Learn Cloud (AWS | G_Cloud | Azure )'  'z Hidden'\n"
          ]
        }
      ]
    },
    {
      "cell_type": "code",
      "source": [
        "%cd Colab Notebooks"
      ],
      "metadata": {
        "colab": {
          "base_uri": "https://localhost:8080/"
        },
        "id": "JfDST1fvsNYL",
        "outputId": "67548e76-8185-4aee-8e8e-f0f49f24fb3e"
      },
      "execution_count": 10,
      "outputs": [
        {
          "output_type": "stream",
          "name": "stdout",
          "text": [
            "/content/gdrive/MyDrive/Colab Notebooks\n"
          ]
        }
      ]
    },
    {
      "cell_type": "code",
      "source": [
        "!pwd"
      ],
      "metadata": {
        "colab": {
          "base_uri": "https://localhost:8080/"
        },
        "id": "BxzlCQ7nshCI",
        "outputId": "416977aa-b5f0-4e2e-fd7c-848c2741e2ff"
      },
      "execution_count": 11,
      "outputs": [
        {
          "output_type": "stream",
          "name": "stdout",
          "text": [
            "/content/gdrive/MyDrive/Colab Notebooks\n"
          ]
        }
      ]
    },
    {
      "cell_type": "code",
      "source": [
        "!ls"
      ],
      "metadata": {
        "colab": {
          "base_uri": "https://localhost:8080/"
        },
        "id": "CcdauTrFsi-D",
        "outputId": "e8ea5766-1506-4be0-ad46-df7bb0c68790"
      },
      "execution_count": 12,
      "outputs": [
        {
          "output_type": "stream",
          "name": "stdout",
          "text": [
            "colab-intro-tutorial.ipynb\n"
          ]
        }
      ]
    },
    {
      "cell_type": "code",
      "source": [],
      "metadata": {
        "id": "f1JpGnuuskPP"
      },
      "execution_count": null,
      "outputs": []
    }
  ]
}